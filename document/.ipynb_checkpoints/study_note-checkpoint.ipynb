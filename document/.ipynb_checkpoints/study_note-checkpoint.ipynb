{
 "cells": [
  {
   "cell_type": "markdown",
   "metadata": {},
   "source": [
    "<center><h1>Study Note of Monitoring Structural Breaks</h1></center>\n",
    "\n",
    "<center>Haixi Li</center>"
   ]
  },
  {
   "cell_type": "markdown",
   "metadata": {
    "toc": true
   },
   "source": [
    "<h1>Table of Contents<span class=\"tocSkip\"></span></h1>\n",
    "<div class=\"toc\"><ul class=\"toc-item\"><li><span><a href=\"#Some-Notation\" data-toc-modified-id=\"Some-Notation-1\">Some Notation</a></span></li><li><span><a href=\"#The-Problem\" data-toc-modified-id=\"The-Problem-2\">The Problem</a></span></li><li><span><a href=\"#Bayesian-Sequential-Probability-Test\" data-toc-modified-id=\"Bayesian-Sequential-Probability-Test-3\">Bayesian Sequential Probability Test</a></span><ul class=\"toc-item\"><li><span><a href=\"#The-Stochastic-Process\" data-toc-modified-id=\"The-Stochastic-Process-3.1\">The Stochastic Process</a></span></li><li><span><a href=\"#The-Probability-Measure-of-the-Process\" data-toc-modified-id=\"The-Probability-Measure-of-the-Process-3.2\">The Probability Measure of the Process</a></span></li><li><span><a href=\"#The-Decision-Problem\" data-toc-modified-id=\"The-Decision-Problem-3.3\">The Decision Problem</a></span><ul class=\"toc-item\"><li><span><a href=\"#The-Objective-Function-and-its-Recursive-Form\" data-toc-modified-id=\"The-Objective-Function-and-its-Recursive-Form-3.3.1\">The Objective Function and its Recursive Form</a></span></li><li><span><a href=\"#The-Convergence-of-the-Recursive-Form\" data-toc-modified-id=\"The-Convergence-of-the-Recursive-Form-3.3.2\">The Convergence of the Recursive Form</a></span></li><li><span><a href=\"#Solve-for-the-Valuation-Function\" data-toc-modified-id=\"Solve-for-the-Valuation-Function-3.3.3\">Solve for the Valuation Function</a></span></li><li><span><a href=\"#Define-the-Optimal-Stopping-Time\" data-toc-modified-id=\"Define-the-Optimal-Stopping-Time-3.3.4\">Define the Optimal Stopping Time</a></span></li></ul></li></ul></li></ul></div>"
   ]
  },
  {
   "cell_type": "markdown",
   "metadata": {},
   "source": [
    "## Some Notation\n",
    "* $\\epsilon$: OLS errors\n",
    "* $\\zeta$: OLS residuals, a sequence of random variable that is subject to structural breaks:$\\zeta^{t}=\\{\\zeta_{0},...,\\zeta_{t}\\}$\n",
    "* $Z$: random variable of the random process, $Z^{t}=\\{Z_{0},Z_{1},...,Z_{t}\\}$ and $Z=\\{Z_{0},...,Z_{t},...\\}$\n",
    "* $\\mathcal{Z}$ denotes the space that contains the random variable\n",
    "* $\\kappa$: structural breaking time\n",
    "* $\\tau$:optimal stopping time \n",
    "* $T$: the sequential stopping procedure that consists of a sequence of stopping times: $\\tau_{0},\\tau_{1}(\\zeta^{1}),\\tau_{2}(\\zeta^{2}),\\tau_{3}(\\zeta^{3}),...,\\tau_{t}(\\zeta^{t})...$\n",
    "* $\\mathcal{T}$: space of all stopping that $E(\\tau)<\\infty$.\n",
    "* $\\pi$: the prior of structural break time $\\kappa$\n",
    "* $\\pi_{t}$: posterior probability of structural break time happen before $t$\n",
    "* $\\Omega_{t}$: the posterior distribution over the parameter space $\\Theta$.\n",
    "* $\\theta$: the unknown parameter of the alternative distribution\n"
   ]
  },
  {
   "cell_type": "markdown",
   "metadata": {},
   "source": [
    "## The Problem\n",
    "Consider a dynamic regression model in the following form:\n",
    "\\begin{equation} \\label{eq:OLS}\n",
    "y_{t} = x_{t}'\\beta_{t}+\\epsilon_{t},\n",
    "\\end{equation}\n",
    "where $x_{t}$ is a $k$ dimensional vector of regressors and $\\beta_{t}$ is a $k\\times 1$ vector of regression coefficients, and the error terms $\\epsilon_{t}$ is i.i.d $\\mathcal{N}(0,\\sigma^{2})$. Assume in the history $t \\in \\{ 1,...,n \\}$, the coefficients in Equation (\\ref{eq:OLS}) are constant and equal to $\\beta_{0}$. We want to monitor new data from $n+1$ onward to test if there is any structural break happening since. The null hypothesis is\n",
    "\\begin{equation}\n",
    "    \\beta_{t} = \\beta_{0} \\, \\forall t\n",
    "\\end{equation}\n",
    "against the alternative that from some unknown time $\\kappa>n$, the coefficients changes to $\\beta_{1} \\neq \\beta_{0}$. To be more precise, we assume the following statistical process:\n",
    "\\begin{eqnarray*}\n",
    "    H_{0}: y_{t} &=& x_{t}'\\beta_{0} + \\epsilon_{t} \\text{ for } t = 0,1,2,...,\\kappa-1,\\\\\n",
    "    H_{1}: y_{t} &=& x_{t}'\\beta_{1} + \\epsilon_{t} \\text{ for } t = \\kappa, \\kappa+1,...\n",
    "\\end{eqnarray*}\n",
    "Correspondingly we have the following hypotheses test, define stochastic process $\\zeta_{t}$:\n",
    "\\begin{eqnarray*}\n",
    "    H_{0}: \\varepsilon_{t} &=& \\epsilon_{t} \\text{ for } t = 0,1,2,...,\\kappa-1,\\\\\n",
    "    H_{1}: \\varepsilon_{t} &=& x_{t}'(\\beta_{1}-\\beta_{0}) + \\epsilon_{t} \\text{ for } t = \\kappa, \\kappa+1,...\n",
    "\\end{eqnarray*}\n",
    "To simplify the problem we assume the unconditional mean $E(\\varepsilon_{t})=\\mu$.\n",
    "So we arrived the following stochastic process:\n",
    "\\begin{eqnarray*}\n",
    "    H_{0}: \\zeta_{t} &=& \\epsilon_{t} \\text{ for } t = 0,1,2,...,\\kappa-1,\\\\\n",
    "    H_{1}: \\zeta_{t} &=& \\mu + \\epsilon_{t} \\text{ for } t = \\kappa, \\kappa+1,...\n",
    "\\end{eqnarray*}\n",
    "The reason to use unconditional mean is because $\\beta_{1}$ is unknown. The covariance $cov(x_{t},\\beta_{t})=0$ due to standard exogeneity assumption of regression model."
   ]
  },
  {
   "cell_type": "markdown",
   "metadata": {},
   "source": [
    "In practice, practitioners estimate the model with historical data, and start monitoring the out of sample performance of the estimated model with newly arrived data. Let $\\hat{\\beta}^{n}$ denote the OLS estimates with historical data up to $t=n$. Under the null, the residuals can be approximated as\n",
    "\\begin{eqnarray*}\n",
    "    \\zeta_{t} &=&  \\epsilon_{t} - x_{t}'(\\hat{\\beta}^{n} - \\beta_{0})\\\\\n",
    "    &=& \\epsilon_{t}-x_{t}'((\\sum_{i=0}^{n}x_{i}'x_{i})^{-1}\\sum_{i=0}^{n}x_{i}'\\epsilon_{i})\\\\\n",
    "    &\\approx& \\epsilon_{t}.\n",
    "\\end{eqnarray*}\n",
    "The approximation is reasonable when $\\hat{\\beta}^{n}$ is estimated consistently. Under the alternative, the residuals can be approximated as\n",
    "\\begin{eqnarray*}\n",
    "    \\zeta_{t} &=&  \\epsilon_{t} - x_{t}'(\\hat{\\beta}^{n} - \\beta_{1})\\\\\n",
    "    &=& \\epsilon_{t} - x_{t}'(\\beta_{0} -\\beta_{1}+(\\sum_{i=0}^{n}x_{i}'x_{i})^{-1}\\sum_{i=0}^{n}x_{i}'\\epsilon_{i})\\\\\n",
    "    &\\approx& \\epsilon_{t} - x_{t}'(\\beta_{0}-\\beta_{1})\\\\\n",
    "    &\\approx& \\epsilon_{t} - \\mu.\n",
    "\\end{eqnarray*}"
   ]
  },
  {
   "cell_type": "markdown",
   "metadata": {},
   "source": [
    "## Bayesian Sequential Probability Test\n",
    "### The Stochastic Process\n",
    "There are two different distribution $f_{0},f_{1}(\\theta)$, we have a piece wise i.i.d. random sequence $\\\n",
    "\\{\\zeta_{0},\\zeta_{1},... \\}$, and there is a random variable, structural break time $\\kappa$, before $\\kappa$ we have $\\zeta_{t}\\sim f_{0}$ and after $\\kappa$ we have $\\zeta \\sim f_{1}(\\theta)$. The structural break time $\\kappa$ follows geometric distribution.\n",
    "Let $\\zeta^{t} = \\{\\zeta_{0},\\zeta_{1},...,\\zeta_{t}\\}$\n",
    "\\begin{equation}\\label{residual_distribution}\n",
    "    \\zeta_{t} \\sim \\begin{cases}\n",
    "        \\begin{array}{c}\n",
    "            f_{0} = \\mathcal{N}(0,\\sigma^{2}) \\\\\n",
    "            f_{1} = \\mathcal{N}(\\mu,\\sigma^{2})\n",
    "        \\end{array} & \\begin{array}{l}\n",
    "            \\text{for } t = 1,2,...,\\kappa -1 \\\\\n",
    "            \\text{for } t = \\kappa, \\kappa +1, ...\n",
    "        \\end{array}\n",
    "    \\end{cases}\n",
    "\\end{equation}\n",
    "The set of parameters $\\theta=\\{\\mu,\\sigma\\}$, which is included in parameter space $\\theta \\in \\Theta$. \n",
    "\n",
    "The structural break time $\\kappa$ follow geometrical distribution:\n",
    "\\begin{equation}\\label{geometric_prior}\n",
    "    P( \\kappa =k)=\\begin{cases}\n",
    "        \\begin{array}{c}\n",
    "            \\pi \\\\\n",
    "            (1-\\pi)\\rho(1-\\rho)^{k-1}\n",
    "        \\end{array} & \\begin{array}{l}\n",
    "            \\text{if } k=0 \\\\\n",
    "            \\text{if } k=1,2,...\n",
    "        \\end{array}\n",
    "    \\end{cases}\n",
    "\\end{equation}\n"
   ]
  },
  {
   "cell_type": "markdown",
   "metadata": {},
   "source": [
    "### The Probability Measure of the Process\n",
    "Let $\\Pi_{0}(\\theta)$ denote the prior distribution over $\\Theta$, and $\\Pi_{t}(\\theta)$ denote the posterior distribution of the parameters given information $\\mathcal{I}_{t}$. So the prior includes two components: the geometric prior distribution for $\\kappa$ and prior distribution  $\\Pi_{0}(\\theta)$ over the parameter space $\\Theta$.\n",
    "\n",
    "Denote $\\zeta^{t}=\\{\\zeta_{1},...,\\zeta_{t}\\}$ as the history of random variable $\\zeta_{t}$ and for each set $A = \\{ \\omega \\colon \\zeta_{1}\\leq x_{1},...,\\zeta_{t}\\leq x_{t}  \\}$, given $\\theta \\in \\Theta$\n",
    "\\begin{eqnarray*}\n",
    "    P_{\\theta}(A) &=& \\pi P^{1}_{\\theta}(A)+(1-\\pi)\\sum_{i=0}^{t-1} \\rho(1-\\rho)^{i}P^{0}\\{ \\zeta_{1}\\leq x_{1},...,\\zeta_{i}\\leq x_{i} \\}\\\\\n",
    "    &&\\times P^{1}_{\\theta}\\{ \\zeta_{i+1}\\leq x_{i+1},...,\\zeta_{t}\\leq x_{t} \\} + (1-\\pi)(1-\\rho)^{t}P^{0}(A)\n",
    "\\end{eqnarray*}\n",
    "The $P^{0}$ and $P^{1}_{\\theta}$ are the probability measures underlying the null distribution and the alternative distribution given $\\theta \\in \\Theta$ respectively. More generally, the probability measure given distribution $\\Pi$ over parameter space $\\Theta$ is defined as:\n",
    "\\begin{equation} \\label{eq:prob_measure}\n",
    "    P^{\\Omega}(A) = \\int_{\\Theta}P^{\\pi}_{\\theta}(A)d\\Pi (\\theta)\n",
    "\\end{equation}"
   ]
  },
  {
   "cell_type": "markdown",
   "metadata": {},
   "source": [
    "### The Decision Problem\n",
    "#### The Objective Function and its Recursive Form\n",
    "The loss function given parameter $\\theta$ is given by the following equation:\n",
    "\\begin{equation}\n",
    "    L(\\theta,\\tau) = E_{\\theta}\\{ 1(\\tau <\\kappa) +c(\\tau-\\kappa)^{+}\\}.\n",
    "\\end{equation}\n",
    "\\cite{Shiryaev1963} solved this problem given the parameter $\\theta$. When $\\theta$ is unknown, the Bayes risk function for any stopping time $\\tau$ became:\n",
    "\\begin{equation} \\label{eq:orig_obj_func}\n",
    "    r^{\\Pi_{0}}(\\pi,\\tau) = E^{\\Omega_{0}}L(\\theta,\\tau),\n",
    "\\end{equation}\n",
    "where $\\Omega_{0}$ is the prior distribution over the parameter space $\\Theta$. The Bayes risk function will be derived by taking the expectation over the parameter space with the probability distribution defined over the parameter space. The expectation $E^{\\Omega_{0}}$ is defined by probability measure defined by Equation (\\ref{eq:prob_measure}).\n",
    "\n",
    "Given the expectation, the loss function can be converted to\n",
    "\\begin{equation}\n",
    "    r^{\\Omega_{0}}(\\pi,\\tau) = E^{\\Omega_{0}}(1-\\pi_{\\tau}+c\\sum_{k=0}^{\\tau-1}\\pi_{k})\n",
    "\\end{equation}\n",
    "\n",
    "At time $t=0$, the expectation is taken with the prior $\\Pi_{0}$, But the distribution $\\Pi_{t}$ over the parameter space is an evolving object, this problem does not show up in with known alternative or simple alternative which is solved by \\cite{Shiryaev1963}."
   ]
  },
  {
   "cell_type": "markdown",
   "metadata": {},
   "source": [
    "We will need a sequential procedure which is a sequence of stopping times $T=\\{\\tau_{0},\\tau_{1},...\\}$, the stopping time is index by time to reflect the information available at the time. The stopping is simply the time to reject the null in favor of the alternative and stop sampling, it is a random function of information availabe at the time, it can be formally stated as\n",
    "\\begin{equation}\n",
    "    N(Z)=\\min\\{t \\geq 0: \\tau_{t}(Z^{t})=1 \\}\n",
    "\\end{equation}\n",
    "To find the recursive presentation of the optimization problem, define the value function of continution from any time $t$ on with prior distribution $\\Omega_{t}$ as\n",
    "\\begin{equation}\n",
    "    v^{\\Omega_{t}}(\\pi,\\tau) = \\inf_{\\tau \\in \\mathcal{T}} E^{\\Omega_{t}}(1-\\pi_{\\tau}+c\\sum_{k=t}^{\\tau-1}\\pi_{k})\n",
    "\\end{equation}\n",
    "To show this recursively, we need to went through the following notation:\n",
    "\\begin{equation}\n",
    "    v^{\\Omega_{0}}(\\pi,\\tau) = \\inf_{\\tau \\in \\mathcal{T}} E^{\\Omega_{0}}(1-\\pi_{\\tau}+c\\sum_{k=0}^{\\tau-1}\\pi_{k})\n",
    "\\end{equation}\n",
    "At $t=0$, if $\\tau=0$, then there is no delay and only flase alarm:$1-\\pi_{0}$. if we decide to continue, then that means $\\tau\\geq 1$,so the expected delay will be $c\\pi_{0}$ and plus the expected value of continution.\n",
    "At $t=1$, we have:\n",
    "\\begin{equation}\n",
    "    v^{\\Omega_{1}}(\\pi,\\tau) = \\inf_{\\tau \\in \\mathcal{T}} E^{\\Omega_{1}}(1-\\pi_{\\tau}+c\\sum_{k=1}^{\\tau-1}\\pi_{k})\n",
    "\\end{equation}\n",
    "If we stop $\\tau=1$, that will yield loss $1-\\pi_{1}$, if we decide to continue, the loss will became"
   ]
  },
  {
   "cell_type": "markdown",
   "metadata": {},
   "source": [
    "In summary, at time zero, the decison maker can stop or continue, which is reflect in following equation:\n",
    "\\begin{equation}\n",
    "    v^{\\Omega_{0}}(\\pi) = \\min\\{1-\\pi, c\\pi+E^{\\Omega_{0}}v^{\\Omega_{1}}(\\pi'\\mid \\pi)\\}\n",
    "\\end{equation}\n",
    "Define the continution value function as\n",
    "\\begin{equation}\n",
    "    v^{\\Omega_{t}}(\\pi) = \\inf _{\\tau \\in \\mathcal{T}} E^{\\Omega_{t}}(1-\\pi_{\\tau}+c\\sum_{k=t}^{\\tau-1}\\pi_{k})\n",
    "\\end{equation}\n",
    "In recursive format:\n",
    "\\begin{equation}\n",
    "    v^{\\Omega_{t}}(\\pi) = \\min\\{1-\\pi, c\\pi+E^{\\Omega_{t}}v^{\\Omega_{t+1}}(\\pi'\\mid \\pi)\\}\n",
    "\\end{equation}\n",
    "The intuition is at any time $t$, the decision maker will face a new problem from $t$ on. And he will do so every time he receive a new data to update his prior to posterior.\n",
    "In more general form, for any generic prior distribution $\\Pi$:\n",
    "\\begin{equation}\n",
    "    v^{\\Omega}(\\pi) = \\min\\{1-\\pi, c\\pi+v^{\\Omega}(\\pi'\\mid \\pi)\\}\n",
    "\\end{equation}"
   ]
  },
  {
   "cell_type": "markdown",
   "metadata": {},
   "source": [
    "#### The Convergence of the Recursive Form\n",
    "One can define a finite time problem that $t\\in\\{0,1,2,...,n\\}$\n",
    "\\begin{equation}\n",
    "    v_{n-1,n}^{\\Omega}(\\pi)=\\min\\{ 1-\\pi,c\\pi+v^{\\Omega}_{n}\\left(\\pi'\\mid \\pi) \\right\\},\n",
    "\\end{equation}\n",
    "Futher more:\n",
    "\\begin{equation}\n",
    "    v_{n-2,n}^{\\Omega}(\\pi)=\\min\\{ 1-\\pi,c\\pi+ v^{\\Omega}_{n-1,n}\\left(\\pi' \\mid \\pi) \\right\\},\n",
    "\\end{equation} We can define more general any time \\(t<n\\):\n",
    "\\begin{equation}\n",
    "    v_{k,n}^{\\Omega}(\\pi)=\\min\\{ 1-\\pi,c\\pi+v^{\\Omega}_{k+1,n}(\\pi' \\mid \\pi) \\},\n",
    "\\end{equation}\n",
    "It is evident that $v^{\\Omega}_{k,n}\\leq v^{\\Omega}_{k+1,n}$, since the option of stopping has more value when there are more time left. In the same manner, we can also define a sequence in the same way: $v_{k,n}^{\\Omega},v_{k,n+1}^{\\Omega},...$, in the same spirit, we have $v_{k,n}^{\\Omega} \\geq v_{k,n+1}^{\\Omega}$, in this way we have construct a montone non-increasing sequence, and the limit of which is well defined\n",
    "\\begin{equation}\n",
    "    v_{k}^{\\Omega} = \\lim_{n\\rightarrow \\infty}v_{k,n}^{\\Omega}.\n",
    "\\end{equation}\n",
    "It is also trivial to show that the objective function is bounded from below, since as long as the excercise started, that $\\tau \\geq 1$, there will be at least one period of expected delay. And also the convergence is point wise for the state variable $\\pi$."
   ]
  },
  {
   "cell_type": "markdown",
   "metadata": {},
   "source": [
    "#### Solve for the Valuation Function\n",
    "We can solve for $v^{\\Omega}$ through value function iteration.\n",
    "Define operator $Q$ as\n",
    "\\begin{equation}\n",
    "(Qv^{\\Omega})(\\pi) = \\min\\{1-\\pi,c\\pi+v^{\\Omega}(\\pi'\\mid \\pi)\\}\n",
    "\\end{equation}\n",
    "The value function iteration is expressed as\n",
    "\\begin{equation}\n",
    "v^{\\Omega}(\\pi) = \\lim_{n\\rightarrow \\infty}(Q^{n}v^{\\Omega})(\\pi)\n",
    "\\end{equation}"
   ]
  },
  {
   "cell_type": "markdown",
   "metadata": {},
   "source": [
    "#### Define the Optimal Stopping Time\n",
    "When the continuation value yield higher loss, it is time to stop. For any generic prior distribution $\\Omega$\n",
    "\\begin{equation}\\label{eq:optimal_stopping_time}\n",
    "\\tau = \\inf\\{t\\geq 0:v^{\\Omega}(\\pi_{t})=1-\\pi_{t}\\}.\n",
    "\\end{equation}\n",
    "The first time when the value function evaluated at $\\pi_{t}$ equal the expected loss of stopping right now $1-\\pi_{t}$ then it is time to stop. Further more Equation (\\ref{eq:optimal_stopping_time}) can be converted to\n",
    "\\begin{equation} \\label{eq:pi_star}\n",
    "\\tau = \\inf \\{t\\geq 0:\\pi_{t}\\geq \\pi^{*}\\},\n",
    "\\end{equation}\n",
    "where $v^{\\Omega}(\\pi^{*}) = 1-\\pi^{*}$. \n",
    "Notice, the Equation (\\ref{eq:pi_star}) also define two non-overlapping regions: the rejection region and the continution region."
   ]
  },
  {
   "cell_type": "code",
   "execution_count": 1,
   "metadata": {
    "scrolled": true
   },
   "outputs": [
    {
     "data": {
      "text/plain": [
       "[<matplotlib.lines.Line2D at 0x7febba469b90>]"
      ]
     },
     "execution_count": 1,
     "metadata": {},
     "output_type": "execute_result"
    },
    {
     "data": {
      "image/png": "[encoded data removed]",
      "text/plain": [
       "<Figure size 432x288 with 1 Axes>"
      ]
     },
     "metadata": {
      "needs_background": "light"
     },
     "output_type": "display_data"
    }
   ],
   "source": [
    "import pandas as pd\n",
    "import numpy as np\n",
    "import matplotlib.pyplot as plt\n",
    "np.pi\n",
    "x = np.linspace(0, 2*np.pi)\n",
    "plt.plot(x, np.sin(x))"
   ]
  },
  {
   "cell_type": "markdown",
   "metadata": {},
   "source": [
    "# References\n",
    "\n",
    "(<a id=\"cit-Shiryaev1963\" href=\"#call-Shiryaev1963\">Shiryaev, 1963</a>) Shiryaev A N, ``_On Optimum Methods in Quickest Detection Problems_'', Theory of Probability \\& Its Applications, vol. 8, number 1, pp. 22--46,  1963.\n",
    "\n"
   ]
  }
 ],
 "metadata": {
  "kernelspec": {
   "display_name": "Python 3",
   "language": "python",
   "name": "python3"
  },
  "language_info": {
   "codemirror_mode": {
    "name": "ipython",
    "version": 3
   },
   "file_extension": ".py",
   "mimetype": "text/x-python",
   "name": "python",
   "nbconvert_exporter": "python",
   "pygments_lexer": "ipython3",
   "version": "3.7.6"
  },
  "latex_envs": {
   "LaTeX_envs_menu_present": true,
   "autoclose": false,
   "autocomplete": false,
   "bibliofile": "BSPT.bib",
   "cite_by": "apalike",
   "current_citInitial": 1,
   "eqLabelWithNumbers": true,
   "eqNumInitial": 1,
   "hotkeys": {
    "equation": "Ctrl-E",
    "itemize": "Ctrl-I"
   },
   "labels_anchors": true,
   "latex_user_defs": false,
   "report_style_numbering": false,
   "user_envs_cfg": true
  },
  "toc": {
   "base_numbering": 1,
   "nav_menu": {},
   "number_sections": false,
   "sideBar": true,
   "skip_h1_title": true,
   "title_cell": "Table of Contents",
   "title_sidebar": "Contents",
   "toc_cell": true,
   "toc_position": {},
   "toc_section_display": true,
   "toc_window_display": false
  },
  "varInspector": {
   "cols": {
    "lenName": 16,
    "lenType": 16,
    "lenVar": 40
   },
   "kernels_config": {
    "python": {
     "delete_cmd_postfix": "",
     "delete_cmd_prefix": "del ",
     "library": "var_list.py",
     "varRefreshCmd": "print(var_dic_list())"
    },
    "r": {
     "delete_cmd_postfix": ") ",
     "delete_cmd_prefix": "rm(",
     "library": "var_list.r",
     "varRefreshCmd": "cat(var_dic_list()) "
    }
   },
   "types_to_exclude": [
    "module",
    "function",
    "builtin_function_or_method",
    "instance",
    "_Feature"
   ],
   "window_display": false
  }
 },
 "nbformat": 4,
 "nbformat_minor": 4
}
